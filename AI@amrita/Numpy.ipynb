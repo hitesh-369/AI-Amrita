{
 "cells": [
  {
   "cell_type": "code",
   "execution_count": 1,
   "id": "a37ffb23",
   "metadata": {},
   "outputs": [],
   "source": [
    "import numpy as np\n",
    "from numpy import random"
   ]
  },
  {
   "cell_type": "markdown",
   "id": "e93ef78a",
   "metadata": {},
   "source": [
    "Checking the numpy version"
   ]
  },
  {
   "cell_type": "code",
   "execution_count": 2,
   "id": "22816c81",
   "metadata": {},
   "outputs": [
    {
     "name": "stdout",
     "output_type": "stream",
     "text": [
      "1.20.1\n"
     ]
    }
   ],
   "source": [
    "print(np.__version__)"
   ]
  },
  {
   "cell_type": "markdown",
   "id": "f6aac3bc",
   "metadata": {},
   "source": [
    "creating an array"
   ]
  },
  {
   "cell_type": "code",
   "execution_count": 3,
   "id": "26dbfe1f",
   "metadata": {},
   "outputs": [
    {
     "name": "stdout",
     "output_type": "stream",
     "text": [
      "[1 2 3 4 5 6 7]\n"
     ]
    }
   ],
   "source": [
    "arr = np.array([1,2,3,4,5,6,7])\n",
    "print(arr)"
   ]
  },
  {
   "cell_type": "markdown",
   "id": "075eb2b3",
   "metadata": {},
   "source": [
    "Numpy Dimenssional Applications"
   ]
  },
  {
   "cell_type": "code",
   "execution_count": 4,
   "id": "892cfd39",
   "metadata": {},
   "outputs": [
    {
     "name": "stdout",
     "output_type": "stream",
     "text": [
      "0-D\n",
      "42\n",
      "\n",
      "1-D\n",
      "[1 2 3 4 5 6]\n",
      "\n",
      "2-D\n",
      "[[1 2 3 4]\n",
      " [5 6 7 8]]\n",
      "\n",
      "3-D\n",
      "[[[ 1  2  3  4  5]\n",
      "  [ 6  7  8  9 10]]\n",
      "\n",
      " [[11 12 13 14 15]\n",
      "  [16 17 18 19 20]]]\n"
     ]
    }
   ],
   "source": [
    "#0-D\n",
    "print(\"0-D\")\n",
    "arr = np.array(42)\n",
    "print(arr)\n",
    "\n",
    "print()\n",
    "print(\"1-D\")\n",
    "\n",
    "#1-D\n",
    "arr1 = np.array([1,2,3,4,5,6])\n",
    "print(arr1)\n",
    "\n",
    "print()\n",
    "print(\"2-D\")\n",
    "\n",
    "#2-D\n",
    "arr2 = np.array([[1,2,3,4],[5,6,7,8]])\n",
    "print(arr2)\n",
    "\n",
    "print()\n",
    "print(\"3-D\")\n",
    "\n",
    "#3-D\n",
    "arr3 = np.array([[[1,2,3,4,5],[6,7,8,9,10]],[[11,12,13,14,15],[16,17,18,19,20]]])\n",
    "print(arr3)"
   ]
  },
  {
   "cell_type": "markdown",
   "id": "45910d2a",
   "metadata": {},
   "source": [
    "Check Number of Dimensions"
   ]
  },
  {
   "cell_type": "code",
   "execution_count": 5,
   "id": "75a020dc",
   "metadata": {},
   "outputs": [
    {
     "name": "stdout",
     "output_type": "stream",
     "text": [
      "0\n",
      "1\n",
      "2\n",
      "3\n"
     ]
    }
   ],
   "source": [
    "arr = np.array(42)\n",
    "arr1 = np.array([1,2,3,4,5,6])\n",
    "arr2 = np.array([[1,2,3,4],[5,6,7,8]])\n",
    "arr3 = np.array([[[1,2,3,4,5],[6,7,8,9,10]],[[11,12,13,14,15],[16,17,18,19,20]]])\n",
    "\n",
    "print(arr.ndim)\n",
    "print(arr1.ndim)\n",
    "print(arr2.ndim)\n",
    "print(arr3.ndim)"
   ]
  },
  {
   "cell_type": "markdown",
   "id": "36bdd30f",
   "metadata": {},
   "source": [
    "Array Indexing"
   ]
  },
  {
   "cell_type": "code",
   "execution_count": 6,
   "id": "a491e5b5",
   "metadata": {},
   "outputs": [
    {
     "name": "stdout",
     "output_type": "stream",
     "text": [
      "1\n",
      "2\n",
      "3\n",
      "4\n",
      "5\n",
      "6\n",
      "\n",
      "1\n",
      "2\n",
      "3\n",
      "4\n",
      "5\n",
      "6\n",
      "7\n",
      "8\n",
      "\n",
      "1\n",
      "2\n",
      "3\n",
      "4\n",
      "5\n",
      "6\n",
      "7\n",
      "8\n",
      "9\n",
      "10\n",
      "11\n",
      "12\n",
      "13\n",
      "14\n",
      "15\n",
      "16\n",
      "17\n",
      "18\n",
      "19\n",
      "20\n",
      "\n",
      "Negitive Indexing\n",
      "8\n"
     ]
    }
   ],
   "source": [
    "arr1 = np.array([1,2,3,4,5,6])\n",
    "arr2 = np.array([[1,2,3,4],[5,6,7,8]])\n",
    "arr3 = np.array([[[1,2,3,4,5],[6,7,8,9,10]],[[11,12,13,14,15],[16,17,18,19,20]]])\n",
    "\n",
    "print(arr1[0])\n",
    "print(arr1[1])\n",
    "print(arr1[2])\n",
    "print(arr1[3])\n",
    "print(arr1[4])\n",
    "print(arr1[5])\n",
    "\n",
    "print()\n",
    "\n",
    "print(arr2[0,0])\n",
    "print(arr2[0,1])\n",
    "print(arr2[0,2])\n",
    "print(arr2[0,3])\n",
    "print(arr2[1,0])\n",
    "print(arr2[1,1])\n",
    "print(arr2[1,2])\n",
    "print(arr2[1,3])\n",
    "\n",
    "print()\n",
    "\n",
    "print(arr3[0,0,0])\n",
    "print(arr3[0,0,1])\n",
    "print(arr3[0,0,2])\n",
    "print(arr3[0,0,3])\n",
    "print(arr3[0,0,4])\n",
    "print(arr3[0,1,0])\n",
    "print(arr3[0,1,1])\n",
    "print(arr3[0,1,2])\n",
    "print(arr3[0,1,3])\n",
    "print(arr3[0,1,4])\n",
    "print(arr3[1,0,0])\n",
    "print(arr3[1,0,1])\n",
    "print(arr3[1,0,2])\n",
    "print(arr3[1,0,3])\n",
    "print(arr3[1,0,4])\n",
    "print(arr3[1,1,0])\n",
    "print(arr3[1,1,1])\n",
    "print(arr3[1,1,2])\n",
    "print(arr3[1,1,3])\n",
    "print(arr3[1,1,4])\n",
    "\n",
    "\n",
    "#Negetive Indexing\n",
    "print()\n",
    "print(\"Negitive Indexing\")\n",
    "print(arr2[1,-1])"
   ]
  },
  {
   "cell_type": "markdown",
   "id": "623c0247",
   "metadata": {},
   "source": [
    "Array Slicing"
   ]
  },
  {
   "cell_type": "code",
   "execution_count": 7,
   "id": "db4302b8",
   "metadata": {},
   "outputs": [
    {
     "name": "stdout",
     "output_type": "stream",
     "text": [
      "[2 3 4 5]\n",
      "[5 6]\n",
      "[1 2 3 4]\n",
      "[4 5]\n",
      "[2 4 6]\n"
     ]
    }
   ],
   "source": [
    "#arr1 = np.array([1,2,3,4,5,6])\n",
    "print(arr1[1:5])\n",
    "print(arr1[4:])\n",
    "print(arr1[:4])\n",
    "print(arr1[-3:-1])\n",
    "print(arr1[1:7:2])\n"
   ]
  },
  {
   "cell_type": "markdown",
   "id": "4b921050",
   "metadata": {},
   "source": [
    "Checking the Data Type of an Array"
   ]
  },
  {
   "cell_type": "code",
   "execution_count": 8,
   "id": "1233fa96",
   "metadata": {},
   "outputs": [
    {
     "name": "stdout",
     "output_type": "stream",
     "text": [
      "int32\n"
     ]
    }
   ],
   "source": [
    "#arr1 = np.array([1,2,3,4,5,6])\n",
    "print(arr1.dtype)"
   ]
  },
  {
   "cell_type": "markdown",
   "id": "3e7c689d",
   "metadata": {},
   "source": [
    "Converting Data Type on Existing Arrays"
   ]
  },
  {
   "cell_type": "code",
   "execution_count": 9,
   "id": "bc50fc39",
   "metadata": {},
   "outputs": [
    {
     "name": "stdout",
     "output_type": "stream",
     "text": [
      "[1. 2. 3. 4. 5. 6.]\n",
      "float32\n"
     ]
    }
   ],
   "source": [
    "#arr1 = np.array([1,2,3,4,5,6])\n",
    "newarr = arr1.astype('f')\n",
    "print(newarr)\n",
    "print(newarr.dtype)"
   ]
  },
  {
   "cell_type": "markdown",
   "id": "3914143a",
   "metadata": {},
   "source": [
    "NumPy Array Copy vs View\n",
    "#copy returns None.\n",
    "#view returns original array."
   ]
  },
  {
   "cell_type": "code",
   "execution_count": 10,
   "id": "31c58386",
   "metadata": {},
   "outputs": [
    {
     "name": "stdout",
     "output_type": "stream",
     "text": [
      "None\n",
      "[1 2 3 4 5 6]\n"
     ]
    }
   ],
   "source": [
    "x = arr1.copy()\n",
    "y = arr1.view()\n",
    "\n",
    "print(x.base)\n",
    "print(y.base)"
   ]
  },
  {
   "cell_type": "markdown",
   "id": "53e759d5",
   "metadata": {},
   "source": [
    "Array Shape"
   ]
  },
  {
   "cell_type": "code",
   "execution_count": 11,
   "id": "8cf22c75",
   "metadata": {},
   "outputs": [
    {
     "name": "stdout",
     "output_type": "stream",
     "text": [
      "(6,)\n",
      "\n",
      "[[[[[1 2 3 4 5 6]]]]]\n",
      "(1, 1, 1, 1, 6)\n"
     ]
    }
   ],
   "source": [
    "#arr1 = np.array([1,2,3,4,5,6])\n",
    "print(arr1.shape)\n",
    "\n",
    "print()\n",
    "#creating 5-D array using 1-D array\n",
    "newarr1 = np.array([1,2,3,4,5,6], ndmin=5)\n",
    "print(newarr1)\n",
    "print(newarr1.shape)"
   ]
  },
  {
   "cell_type": "markdown",
   "id": "06b51dd5",
   "metadata": {},
   "source": [
    "Array Reshaping"
   ]
  },
  {
   "cell_type": "code",
   "execution_count": 12,
   "id": "f8167559",
   "metadata": {},
   "outputs": [
    {
     "name": "stdout",
     "output_type": "stream",
     "text": [
      "[1 2 3 4 5 6]\n",
      "\n",
      "[[1 2 3]\n",
      " [4 5 6]]\n",
      "\n",
      "[1 2 3 4 5 6]\n"
     ]
    }
   ],
   "source": [
    "#Reshaping 1-D array to 2-D array\n",
    "print(arr1)\n",
    "print()\n",
    "newarr2= arr1.reshape(2,3)\n",
    "print(newarr2)\n",
    "\n",
    "print()\n",
    "#Flattening the arrays\n",
    "print(newarr2.reshape(-1))"
   ]
  },
  {
   "cell_type": "markdown",
   "id": "24847abc",
   "metadata": {},
   "source": [
    "Iterating arrays"
   ]
  },
  {
   "cell_type": "code",
   "execution_count": 13,
   "id": "0e8f7d66",
   "metadata": {},
   "outputs": [
    {
     "name": "stdout",
     "output_type": "stream",
     "text": [
      "1\n",
      "2\n",
      "3\n",
      "4\n",
      "5\n",
      "6\n",
      "\n",
      "1\n",
      "2\n",
      "3\n",
      "4\n",
      "5\n",
      "6\n",
      "7\n",
      "8\n",
      "\n",
      "1\n",
      "2\n",
      "3\n",
      "4\n",
      "5\n",
      "6\n",
      "7\n",
      "8\n",
      "9\n",
      "10\n",
      "11\n",
      "12\n",
      "13\n",
      "14\n",
      "15\n",
      "16\n",
      "17\n",
      "18\n",
      "19\n",
      "20\n"
     ]
    }
   ],
   "source": [
    "#arr1 = np.array([1,2,3,4,5,6])\n",
    "for i in np.nditer(arr1):\n",
    "    print(i)\n",
    "\n",
    "print()\n",
    "for j in np.nditer(arr2):\n",
    "    print(j)\n",
    "\n",
    "print()\n",
    "for k in np.nditer(arr3):\n",
    "    print(k)\n",
    "    "
   ]
  },
  {
   "cell_type": "markdown",
   "id": "19dde2c0",
   "metadata": {},
   "source": [
    "Enumerated Iteration"
   ]
  },
  {
   "cell_type": "code",
   "execution_count": 14,
   "id": "2c3de3ba",
   "metadata": {},
   "outputs": [
    {
     "name": "stdout",
     "output_type": "stream",
     "text": [
      "(0, 0, 0) 1\n",
      "(0, 0, 1) 2\n",
      "(0, 0, 2) 3\n",
      "(0, 0, 3) 4\n",
      "(0, 0, 4) 5\n",
      "(0, 1, 0) 6\n",
      "(0, 1, 1) 7\n",
      "(0, 1, 2) 8\n",
      "(0, 1, 3) 9\n",
      "(0, 1, 4) 10\n",
      "(1, 0, 0) 11\n",
      "(1, 0, 1) 12\n",
      "(1, 0, 2) 13\n",
      "(1, 0, 3) 14\n",
      "(1, 0, 4) 15\n",
      "(1, 1, 0) 16\n",
      "(1, 1, 1) 17\n",
      "(1, 1, 2) 18\n",
      "(1, 1, 3) 19\n",
      "(1, 1, 4) 20\n"
     ]
    }
   ],
   "source": [
    "for idx, x in np.ndenumerate(arr3):\n",
    "    print(idx,x)"
   ]
  },
  {
   "cell_type": "markdown",
   "id": "8e623942",
   "metadata": {},
   "source": [
    "Joining of array"
   ]
  },
  {
   "cell_type": "code",
   "execution_count": 15,
   "id": "a14273cd",
   "metadata": {},
   "outputs": [
    {
     "name": "stdout",
     "output_type": "stream",
     "text": [
      "[1 2 3 4 5 6]\n",
      "\n",
      "[[ 1  2  3  7  8  9]\n",
      " [ 4  5  6 10 11 12]]\n",
      "\n",
      "[[ 1  2  3]\n",
      " [ 4  5  6]\n",
      " [ 7  8  9]\n",
      " [10 11 12]]\n"
     ]
    }
   ],
   "source": [
    "a = np.array([1,2,3])\n",
    "b = np.array([4,5,6])\n",
    "c = np.concatenate((a,b))\n",
    "print(c)\n",
    "\n",
    "print()\n",
    "\n",
    "#Join two 2-D arrays along rows (axis=1)\n",
    "d = np.array([[1,2,3],[4,5,6]])\n",
    "e = np.array([[7,8,9],[10,11,12]])\n",
    "f = np.concatenate((d,e), axis = 1)\n",
    "print(f)\n",
    "print()\n",
    "g = np.concatenate((d,e))\n",
    "print(g)"
   ]
  },
  {
   "cell_type": "markdown",
   "id": "ce837148",
   "metadata": {},
   "source": [
    "Joining Arrays Using Stack Functions"
   ]
  },
  {
   "cell_type": "code",
   "execution_count": 16,
   "id": "ffd81c76",
   "metadata": {},
   "outputs": [
    {
     "name": "stdout",
     "output_type": "stream",
     "text": [
      "[[1 4]\n",
      " [2 5]\n",
      " [3 6]]\n",
      "\n",
      "[1 2 3 4 5 6]\n",
      "\n",
      "[[1 2 3]\n",
      " [4 5 6]]\n",
      "\n",
      "[[[1 4]\n",
      "  [2 5]\n",
      "  [3 6]]]\n"
     ]
    }
   ],
   "source": [
    "#a = np.array([1,2,3])\n",
    "#b = np.array([4,5,6])\n",
    "h = np.stack((a,b), axis = 1) \n",
    "print(h)\n",
    "print()\n",
    "\n",
    "#stacking along Rows\n",
    "i = np.hstack((a,b))\n",
    "print(i)\n",
    "print()\n",
    "\n",
    "#stacking along Columns\n",
    "j = np.vstack((a,b))\n",
    "print(j)\n",
    "print()\n",
    "\n",
    "#stacking along Height\n",
    "k = np.dstack((a,b))\n",
    "print(k)"
   ]
  },
  {
   "cell_type": "markdown",
   "id": "07f6876a",
   "metadata": {},
   "source": [
    "Splitting NumPy Arrays"
   ]
  },
  {
   "cell_type": "code",
   "execution_count": 17,
   "id": "a2896f6a",
   "metadata": {},
   "outputs": [
    {
     "name": "stdout",
     "output_type": "stream",
     "text": [
      "[array([1, 2]), array([3, 4]), array([5, 6])]\n",
      "\n",
      "[array([1, 2]), array([3, 4]), array([5]), array([6])]\n"
     ]
    }
   ],
   "source": [
    "a1 = np.array_split(arr1,3)\n",
    "print(a1)\n",
    "print()\n",
    "\n",
    "a2 = np.array_split(arr1,4)\n",
    "print(a2)"
   ]
  },
  {
   "cell_type": "markdown",
   "id": "0e8780fa",
   "metadata": {},
   "source": [
    "numpy.zeros()\n",
    "#numpy.zeros(shape, dtype = None, order = 'C')"
   ]
  },
  {
   "cell_type": "code",
   "execution_count": 18,
   "id": "0cf967e1",
   "metadata": {},
   "outputs": [
    {
     "name": "stdout",
     "output_type": "stream",
     "text": [
      "Matrix b : \n",
      " [0 0]\n",
      "\n",
      "Matrix a : \n",
      " [[0 0]\n",
      " [0 0]]\n",
      "\n",
      "Matrix c : \n",
      " [[0. 0. 0.]\n",
      " [0. 0. 0.]\n",
      " [0. 0. 0.]]\n"
     ]
    }
   ],
   "source": [
    "b = np.zeros(2, dtype = int)\n",
    "print(\"Matrix b : \\n\", b)\n",
    "  \n",
    "a = np.zeros([2, 2], dtype = int)\n",
    "print(\"\\nMatrix a : \\n\", a)\n",
    "  \n",
    "c = np.zeros([3, 3])\n",
    "print(\"\\nMatrix c : \\n\", c)"
   ]
  },
  {
   "cell_type": "markdown",
   "id": "e2725250",
   "metadata": {},
   "source": [
    "Random Number"
   ]
  },
  {
   "cell_type": "code",
   "execution_count": 19,
   "id": "5c5f8918",
   "metadata": {},
   "outputs": [
    {
     "name": "stdout",
     "output_type": "stream",
     "text": [
      "[ 8 93 92 64  1]\n",
      "\n",
      "[[28 59  7 78 65]\n",
      " [10 12  5 23 57]\n",
      " [11 56 60 45 37]]\n",
      "\n",
      "[0.29353305 0.73876897 0.02901232 0.82298326 0.18469244]\n",
      "\n",
      "[[0.98849321 0.79961794 0.6371834  0.4534657  0.64697894]\n",
      " [0.08822326 0.04943819 0.77430253 0.12746203 0.13439801]\n",
      " [0.99054604 0.06624699 0.81131701 0.37027365 0.61009967]]\n",
      "\n",
      "9\n",
      "\n"
     ]
    }
   ],
   "source": [
    "x=random.randint(100, size=(5))\n",
    "print(x)\n",
    "print()\n",
    "\n",
    "x1 = random.randint(100, size=(3, 5))\n",
    "print(x1)\n",
    "print()\n",
    "\n",
    "#Random float numbers\n",
    "x2 = random.rand(5)\n",
    "print(x2)\n",
    "print()\n",
    "\n",
    "x3 = random.rand(3, 5)\n",
    "print(x3)\n",
    "print()\n",
    "\n",
    "#Generate Random Number From Array\n",
    "x4 = random.choice([3, 5, 7, 9])\n",
    "print(x4)\n",
    "print()\n"
   ]
  },
  {
   "cell_type": "code",
   "execution_count": 20,
   "id": "6f27d79a",
   "metadata": {},
   "outputs": [
    {
     "name": "stdout",
     "output_type": "stream",
     "text": [
      "8\n"
     ]
    }
   ],
   "source": [
    "import random\n",
    "print(random.randrange(1,10))"
   ]
  },
  {
   "cell_type": "markdown",
   "id": "94ca79f8",
   "metadata": {},
   "source": [
    "asarray() function"
   ]
  },
  {
   "cell_type": "code",
   "execution_count": 21,
   "id": "0d75bd04",
   "metadata": {},
   "outputs": [
    {
     "name": "stdout",
     "output_type": "stream",
     "text": [
      "[[1. 1. 1. 1.]\n",
      " [1. 1. 1. 1.]\n",
      " [1. 1. 1. 1.]\n",
      " [1. 1. 1. 1.]]\n",
      "\n",
      "[[1. 1. 1. 1.]\n",
      " [1. 1. 1. 1.]\n",
      " [2. 2. 2. 2.]\n",
      " [1. 1. 1. 1.]]\n"
     ]
    }
   ],
   "source": [
    "A = np.matrix(np.ones((4,4)))\t\t\n",
    "np.array(A)[2]=2  #immutable\n",
    "print(A)\n",
    "print()\n",
    "\n",
    "np.asarray(A)[2]=2\n",
    "print(A)"
   ]
  },
  {
   "cell_type": "markdown",
   "id": "bc11981c",
   "metadata": {},
   "source": [
    "numpy.arange()"
   ]
  },
  {
   "cell_type": "code",
   "execution_count": 22,
   "id": "ddee3182",
   "metadata": {},
   "outputs": [
    {
     "name": "stdout",
     "output_type": "stream",
     "text": [
      "[ 1  2  3  4  5  6  7  8  9 10]\n",
      "[ 1  5  9 13]\n"
     ]
    }
   ],
   "source": [
    "print(np.arange(1, 11))\n",
    "print(np.arange(1, 14, 4))"
   ]
  },
  {
   "cell_type": "markdown",
   "id": "4c1de404",
   "metadata": {},
   "source": [
    "Linspace"
   ]
  },
  {
   "cell_type": "code",
   "execution_count": 23,
   "id": "742fdc58",
   "metadata": {},
   "outputs": [
    {
     "name": "stdout",
     "output_type": "stream",
     "text": [
      "[ 1.          1.47368421  1.94736842  2.42105263  2.89473684  3.36842105\n",
      "  3.84210526  4.31578947  4.78947368  5.26315789  5.73684211  6.21052632\n",
      "  6.68421053  7.15789474  7.63157895  8.10526316  8.57894737  9.05263158\n",
      "  9.52631579 10.        ]\n",
      "\n",
      "[1.  1.8 2.6 3.4 4.2]\n"
     ]
    }
   ],
   "source": [
    "print(np.linspace(1.0, 10.0, num=20))\n",
    "print()\n",
    "print(np.linspace(1.0, 5.0, num=5, endpoint=False))"
   ]
  },
  {
   "cell_type": "code",
   "execution_count": 24,
   "id": "b4267010",
   "metadata": {},
   "outputs": [
    {
     "name": "stdout",
     "output_type": "stream",
     "text": [
      "16\n"
     ]
    }
   ],
   "source": [
    "x = np.array([1,2,3,4], dtype=np.complex128)\n",
    "print(x.itemsize)"
   ]
  },
  {
   "cell_type": "code",
   "execution_count": 25,
   "id": "0816eb17",
   "metadata": {},
   "outputs": [
    {
     "name": "stdout",
     "output_type": "stream",
     "text": [
      "[3.96967431 4.52733253 4.67369366 4.77923391 4.88711608 4.93802873\n",
      " 5.25814531 5.3001675  5.53357414 5.90974682]\n",
      "\n",
      "3.9696743059502784\n",
      "5.909746818549085\n",
      "4.97767129931688\n",
      "4.912572401499151\n",
      "0.5216202399726272\n"
     ]
    }
   ],
   "source": [
    "normal_array = np.random.normal(5, 0.5, 10)\n",
    "print(np.sort(normal_array))\n",
    "print()\n",
    "### Min \n",
    "print(np.min(normal_array))\n",
    "\n",
    "### Max \n",
    "print(np.max(normal_array))\n",
    "\n",
    "### Mean \n",
    "print(np.mean(normal_array))\n",
    "\n",
    "### Median\n",
    "print(np.median(normal_array))\n",
    "\n",
    "### Sd\n",
    "print(np.std(normal_array))"
   ]
  },
  {
   "cell_type": "markdown",
   "id": "34702f42",
   "metadata": {},
   "source": [
    "Numpy Dot Product"
   ]
  },
  {
   "cell_type": "code",
   "execution_count": 26,
   "id": "3d75557d",
   "metadata": {},
   "outputs": [
    {
     "name": "stdout",
     "output_type": "stream",
     "text": [
      "14\n"
     ]
    }
   ],
   "source": [
    "## Linear algebra\n",
    "### Dot product: product of two arrays\n",
    "b1 = np.array([1,2])\n",
    "b2 = np.array([4,5])\n",
    "### 1*4+2*5\n",
    "print(np.dot(b1, b2))"
   ]
  },
  {
   "cell_type": "markdown",
   "id": "6546adad",
   "metadata": {},
   "source": [
    "Matrix Multiplication"
   ]
  },
  {
   "cell_type": "code",
   "execution_count": 27,
   "id": "34db5041",
   "metadata": {},
   "outputs": [
    {
     "name": "stdout",
     "output_type": "stream",
     "text": [
      "[[19 22]\n",
      " [43 50]]\n"
     ]
    }
   ],
   "source": [
    "c1 = [[1,2],[3,4]] \n",
    "c2 = [[5,6],[7,8]] \n",
    "### 1*5+2*7 = 19\n",
    "print(np.matmul(c1, c2))"
   ]
  },
  {
   "cell_type": "markdown",
   "id": "a574f9d1",
   "metadata": {},
   "source": [
    "How to inverse a matrix using NumPy"
   ]
  },
  {
   "cell_type": "code",
   "execution_count": 28,
   "id": "d170ed60",
   "metadata": {},
   "outputs": [
    {
     "name": "stdout",
     "output_type": "stream",
     "text": [
      "[[ 0.17647059 -0.00326797 -0.02287582]\n",
      " [ 0.05882353 -0.13071895  0.08496732]\n",
      " [-0.11764706  0.1503268   0.05228758]]\n"
     ]
    }
   ],
   "source": [
    "A = np.array([[6, 1, 1],\n",
    "              [4, -2, 5],\n",
    "              [2, 8, 7]])\n",
    "print(np.linalg.inv(A))"
   ]
  },
  {
   "cell_type": "markdown",
   "id": "7adff1b4",
   "metadata": {},
   "source": [
    "How to Calculate the determinant of a matrix using NumPy?"
   ]
  },
  {
   "cell_type": "code",
   "execution_count": 29,
   "id": "a4a5837c",
   "metadata": {},
   "outputs": [
    {
     "name": "stdout",
     "output_type": "stream",
     "text": [
      "Numpy Matrix is:\n",
      "[[50 29]\n",
      " [30 44]]\n",
      "\n",
      "Determinant of given 2X2 matrix:\n",
      "1330\n"
     ]
    }
   ],
   "source": [
    "n_array = np.array([[50, 29], [30, 44]])\n",
    "\n",
    "# Displaying the Matrix\n",
    "print(\"Numpy Matrix is:\")\n",
    "print(n_array)\n",
    "  \n",
    "# calculating the determinant of matrix\n",
    "det = np.linalg.det(n_array)\n",
    "  \n",
    "print(\"\\nDeterminant of given 2X2 matrix:\")\n",
    "print(int(det))"
   ]
  },
  {
   "cell_type": "markdown",
   "id": "33c83224",
   "metadata": {},
   "source": [
    "Rank of a Matrix"
   ]
  },
  {
   "cell_type": "code",
   "execution_count": 30,
   "id": "5df14c5a",
   "metadata": {},
   "outputs": [
    {
     "data": {
      "text/plain": [
       "3"
      ]
     },
     "execution_count": 30,
     "metadata": {},
     "output_type": "execute_result"
    }
   ],
   "source": [
    "# Let's create a square matrix (NxN matrix)\n",
    "mx = np.array([[1,1,1],[0,1,2],[1,5,3]])\n",
    "\n",
    "# Let's get rank of matrix \n",
    "np.linalg.matrix_rank(mx)"
   ]
  },
  {
   "cell_type": "markdown",
   "id": "cd7a789a",
   "metadata": {},
   "source": [
    "Get diagonal of a matrix"
   ]
  },
  {
   "cell_type": "code",
   "execution_count": 31,
   "id": "818cdc5a",
   "metadata": {},
   "outputs": [
    {
     "name": "stdout",
     "output_type": "stream",
     "text": [
      "[[6 4]]\n"
     ]
    }
   ],
   "source": [
    "# make matrix with numpy\n",
    "z1 = np.matrix('[6, 2; 3, 4]')\n",
    "         \n",
    "# applying matrix.diagonal() method\n",
    "diag = z1.diagonal()\n",
    "   \n",
    "print(diag)"
   ]
  },
  {
   "cell_type": "markdown",
   "id": "63a95866",
   "metadata": {},
   "source": [
    "Matrix transpose"
   ]
  },
  {
   "cell_type": "code",
   "execution_count": 32,
   "id": "d64a040e",
   "metadata": {},
   "outputs": [
    {
     "name": "stdout",
     "output_type": "stream",
     "text": [
      "[[ 4 12]\n",
      " [ 1  3]]\n"
     ]
    }
   ],
   "source": [
    "# make matrix with numpy\n",
    "z2 = np.matrix('[4, 1; 12, 3]')\n",
    "              \n",
    "# applying matrix.transpose() method\n",
    "trans = z2.transpose()\n",
    "    \n",
    "print(trans)"
   ]
  },
  {
   "cell_type": "markdown",
   "id": "d82f5cf1",
   "metadata": {},
   "source": [
    "Trace of a matrix"
   ]
  },
  {
   "cell_type": "code",
   "execution_count": 33,
   "id": "41926cc1",
   "metadata": {},
   "outputs": [
    {
     "name": "stdout",
     "output_type": "stream",
     "text": [
      "[[7]]\n"
     ]
    }
   ],
   "source": [
    "# make matrix with numpy\n",
    "z3 = np.matrix('[4, 1; 12, 3]')\n",
    "              \n",
    "# applying matrix.trace() method\n",
    "tracem = z3.trace()\n",
    "    \n",
    "print(tracem)"
   ]
  }
 ],
 "metadata": {
  "kernelspec": {
   "display_name": "Python 3",
   "language": "python",
   "name": "python3"
  },
  "language_info": {
   "codemirror_mode": {
    "name": "ipython",
    "version": 3
   },
   "file_extension": ".py",
   "mimetype": "text/x-python",
   "name": "python",
   "nbconvert_exporter": "python",
   "pygments_lexer": "ipython3",
   "version": "3.8.8"
  }
 },
 "nbformat": 4,
 "nbformat_minor": 5
}
